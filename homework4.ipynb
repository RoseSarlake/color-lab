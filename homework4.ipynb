{
  "nbformat": 4,
  "nbformat_minor": 0,
  "metadata": {
    "colab": {
      "name": "homework4",
      "provenance": [],
      "authorship_tag": "ABX9TyPboEczl4Pl0MCVjNX6iK6+",
      "include_colab_link": true
    },
    "kernelspec": {
      "name": "python3",
      "display_name": "Python 3"
    },
    "language_info": {
      "name": "python"
    }
  },
  "cells": [
    {
      "cell_type": "markdown",
      "metadata": {
        "id": "view-in-github",
        "colab_type": "text"
      },
      "source": [
        "<a href=\"https://colab.research.google.com/github/RoseSarlake/color-lab/blob/main/homework4.ipynb\" target=\"_parent\"><img src=\"https://colab.research.google.com/assets/colab-badge.svg\" alt=\"Open In Colab\"/></a>"
      ]
    },
    {
      "cell_type": "code",
      "metadata": {
        "id": "wqs4IiPxnI5E"
      },
      "source": [
        "import numpy as np\n",
        "import matplotlib.pyplot as plt\n",
        "import random\n",
        "import math"
      ],
      "execution_count": 48,
      "outputs": []
    },
    {
      "cell_type": "code",
      "metadata": {
        "id": "236_uopQnO72"
      },
      "source": [
        "def cost(x):\n",
        "     cost_value = 1 - math.sin(x)\n",
        "     return cost_value\n"
      ],
      "execution_count": 49,
      "outputs": []
    },
    {
      "cell_type": "markdown",
      "metadata": {
        "id": "N0PMKkxxnT2j"
      },
      "source": [
        "1. Initialization"
      ]
    },
    {
      "cell_type": "code",
      "metadata": {
        "id": "JXOgEJa_nRaQ"
      },
      "source": [
        "C0 = 0.5 \n",
        "C1 = 0.2 # weight of best solution it has found\n",
        "C2 = 0.2 # weight of best solution the whole swarm found\n",
        "\n",
        "L = 100 #number of iterations\n",
        "N = 10 #number of particles\n",
        "\n",
        "X_Best = random.uniform(0, 2*math.pi)\n",
        "C_Best = math.inf\n",
        "\n",
        "x = v = c = x_best = c_best = [0 for i in range(N)]\n",
        "x = x_best = np.random.uniform(0,2*math.pi,N)\n",
        "v = np.random.uniform(0, 2, N)\n",
        "c_best = list(map (lambda x :cost(x), x))"
      ],
      "execution_count": 50,
      "outputs": []
    },
    {
      "cell_type": "code",
      "metadata": {
        "colab": {
          "base_uri": "https://localhost:8080/",
          "height": 35
        },
        "id": "-0FA4nqevy_5",
        "outputId": "e16001f0-08a5-4baf-ee39-e42a0df0c167"
      },
      "source": [
        "\n",
        "'''for i in range(N):\n",
        "    x[i] = random.uniform(0, maxValue)\n",
        "    v[i] = random.uniform(0, 3)\n",
        "    x_best[i] = x[i]\n",
        "    c_best[i] = cost(x[i])'''"
      ],
      "execution_count": 53,
      "outputs": [
        {
          "output_type": "execute_result",
          "data": {
            "application/vnd.google.colaboratory.intrinsic+json": {
              "type": "string"
            },
            "text/plain": [
              "'for i in range(N):\\n    x[i] = random.uniform(0, maxValue)\\n    v[i] = random.uniform(0, 3)\\n    x_best[i] = x[i]\\n    c_best[i] = cost(x[i])'"
            ]
          },
          "metadata": {},
          "execution_count": 53
        }
      ]
    },
    {
      "cell_type": "code",
      "metadata": {
        "colab": {
          "base_uri": "https://localhost:8080/",
          "height": 283
        },
        "id": "kigqDIFTnaUb",
        "outputId": "eb691ca1-8fc7-48c1-d38f-d10bc66cfc29"
      },
      "source": [
        " #-----------PLOT----------#\n",
        " \n",
        "a = np.arange(0.0, 7 , 0.02)\n",
        "plt.plot(a,np.sin(a))\n",
        "plt.scatter(x,np.sin(x))\n",
        "plt.plot(X_Best,np.sin(X_Best),'r')"
      ],
      "execution_count": 51,
      "outputs": [
        {
          "output_type": "execute_result",
          "data": {
            "text/plain": [
              "[<matplotlib.lines.Line2D at 0x7f84487c61d0>]"
            ]
          },
          "metadata": {},
          "execution_count": 51
        },
        {
          "output_type": "display_data",
          "data": {
            "image/png": "[encoded data removed]",
            "text/plain": [
              "<Figure size 432x288 with 1 Axes>"
            ]
          },
          "metadata": {
            "needs_background": "light"
          }
        }
      ]
    },
    {
      "cell_type": "markdown",
      "metadata": {
        "id": "DJtlv2O-vqEQ"
      },
      "source": [
        "2. Iteration"
      ]
    },
    {
      "cell_type": "code",
      "metadata": {
        "colab": {
          "base_uri": "https://localhost:8080/"
        },
        "id": "BzIHPAlLvYgd",
        "outputId": "69613822-c60c-493f-8231-5febf2b05ef7"
      },
      "source": [
        "for l in range(L):\n",
        "    for i in range(N):\n",
        "        # randomizer\n",
        "        r1 = random.uniform(0, 1)\n",
        "        r2 = random.uniform(0, 1)\n",
        "        # update velocity\n",
        "        v[i] = C0*v[i] + C1*r1*(x_best[i]-x[i]) + C2*r2*(X_Best-x[i])\n",
        "        # update position\n",
        "        x[i] = x[i]+ v[i]\n",
        "        # constraints\n",
        "        if x[i]<0:\n",
        "            x[i]= 0\n",
        "        if x[i]>2*np.pi:\n",
        "            x[i] = 2*np.pi\n",
        "        # cost function \n",
        "        c[i] = cost(x[i])\n",
        "        #update\n",
        "        if c[i] < c_best[i]:\n",
        "            c_best[i] = c[i]\n",
        "            x_best[i] = x[i]\n",
        "        if c[i] < C_Best:\n",
        "            C_Best = c[i]\n",
        "            X_Best = x[i]\n",
        "\n",
        "print(X_Best)"
      ],
      "execution_count": 52,
      "outputs": [
        {
          "output_type": "stream",
          "name": "stdout",
          "text": [
            "1.570796318927696\n"
          ]
        }
      ]
    },
    {
      "cell_type": "code",
      "metadata": {
        "id": "tjTD4tX7v3nr"
      },
      "source": [
        "#should near pi/2"
      ],
      "execution_count": null,
      "outputs": []
    }
  ]
}