{
  "nbformat": 4,
  "nbformat_minor": 0,
  "metadata": {
    "colab": {
      "name": "homework1.ipynb",
      "provenance": [],
      "authorship_tag": "ABX9TyOUgzWa75sgxYjfCaZ/Huld",
      "include_colab_link": true
    },
    "kernelspec": {
      "name": "python3",
      "display_name": "Python 3"
    }
  },
  "cells": [
    {
      "cell_type": "markdown",
      "metadata": {
        "id": "view-in-github",
        "colab_type": "text"
      },
      "source": [
        "<a href=\"https://colab.research.google.com/github/RoseSarlake/color-lab/blob/main/homework1.ipynb\" target=\"_parent\"><img src=\"https://colab.research.google.com/assets/colab-badge.svg\" alt=\"Open In Colab\"/></a>"
      ]
    },
    {
      "cell_type": "code",
      "metadata": {
        "id": "2AuhbF3XGY6T"
      },
      "source": [
        "def read_envi(fileName):\n",
        "    \"\"\"\n",
        "    Read Specim ENVI data file. Return 3-D spectral data cube and wavelengths.\n",
        "    \n",
        "    dataCube, wavelengths = read_envi(fileName)\n",
        "    \n",
        "    \n",
        "    INPUT:      fileName = Name of the ENVI file (without extention)\n",
        "                           (e.g. 'sample_001')\n",
        "                         \n",
        "    OUTPUTS:    dataCube = 3-D data cube containing the spectral bands \n",
        "                           along the 3rd axis.\n",
        "                             \n",
        "                wavelengths = Wavelengths of the spectral bands.\n",
        "    \"\"\"\n",
        "    \n",
        "    import numpy as np\n",
        "\n",
        "    # Read header file: \n",
        "    f = open(fileName + '.hdr', 'r')\n",
        "    header = f.readlines()\n",
        "    f.close()\n",
        "    \n",
        "    for line in header:\n",
        "        line = line.lower().strip()\n",
        "        if 'samples' in line:\n",
        "            samples = int(line.split('samples = ')[1])\n",
        "        if 'bands' in line and 'default' not in line:\n",
        "            bands = int(line.split('bands = ')[1])\n",
        "        if 'lines' in line:\n",
        "            lines = int(line.split('lines = ')[1])\n",
        "        if 'interleave' in line:\n",
        "            interleave = line.split('interleave = ')[1]\n",
        "    \n",
        "    wavelengths = ''\n",
        "    isWavelength = False\n",
        "    \n",
        "    for line in header:\n",
        "        line = line.lower().strip()\n",
        "        if 'wavelength =' in line:\n",
        "            isWavelength = True\n",
        "        if isWavelength:\n",
        "            wavelengths += line\n",
        "    \n",
        "    f1 = wavelengths.find('{')\n",
        "    f2 = wavelengths.find('}')\n",
        "    wavelengths = wavelengths[f1+1:f2]\n",
        "    wavelengths = [float(n) for n in wavelengths.split(',')]\n",
        "    wavelengths = np.array(wavelengths)\n",
        "    \n",
        "    # Read raw data file:\n",
        "    f = open(fileName + '.raw', 'r')\n",
        "    raw_data = np.fromfile(f, dtype='uint16')\n",
        "    f.close()\n",
        "    \n",
        "    # Reshape raw data into a 3-D data cube:\n",
        "    if interleave == 'bil':\n",
        "        dataCube = raw_data.reshape((lines, bands, samples))\n",
        "        dataCube = dataCube.swapaxes(1,2)\n",
        "    elif interleave == 'bip':\n",
        "        dataCube = raw_data.reshape((lines, samples, bands))\n",
        "    elif interleave == 'bsq':\n",
        "        dataCube = raw_data.reshape((bands, lines, samples))\n",
        "        dataCube = dataCube.swapaxes(0,1)\n",
        "        dataCube = dataCube.swapaxes(1,2)\n",
        "    \n",
        "    dataCube = dataCube.astype('float')\n",
        "    \n",
        "    return dataCube, wavelengths\n"
      ],
      "execution_count": 5,
      "outputs": []
    },
    {
      "cell_type": "code",
      "metadata": {
        "colab": {
          "base_uri": "https://localhost:8080/"
        },
        "id": "DenaD89ccGCB",
        "outputId": "05ec5a0e-1bde-4549-f407-b1cc04a3c7f4"
      },
      "source": [
        "from google.colab import drive\n",
        "drive.mount('/content/gdrive',force_remount=True)\n",
        "path = \"/gdrive/MyDrive/Colab Notebooks/color lab/ColorChecker_Specim_V10E/capture\""
      ],
      "execution_count": 15,
      "outputs": [
        {
          "output_type": "stream",
          "name": "stdout",
          "text": [
            "Mounted at /content/gdrive\n"
          ]
        }
      ]
    },
    {
      "cell_type": "code",
      "metadata": {
        "id": "MTVdpYXywyD3"
      },
      "source": [
        "# 0. Import the read function \n",
        "import numpy as np\n",
        "import matplotlib.pyplot as plt"
      ],
      "execution_count": 16,
      "outputs": []
    },
    {
      "cell_type": "code",
      "metadata": {
        "id": "e_T9SenoGX0M",
        "colab": {
          "base_uri": "https://localhost:8080/",
          "height": 371
        },
        "outputId": "0cdc6e64-d0a3-46c5-f4ef-a2c7ba832a35"
      },
      "source": [
        "# 1. Read spectral data cubes (sample, white, dark)\n",
        "sampleCube,wavelengths = read_envi('colorchecker_sample_0007')\n",
        "white,wavelengths = read_envi('WHITEREF_COLORchecker_sample_0007')\n",
        "dark,wavelengths = read_envi('DARKREF_COLORchecker_sample_0007')\n",
        "    #resize the dark cube and white cube \n",
        "darkCube = np.zeros((567,1072,135))\n",
        "for i in range(0,135):\n",
        "    cur_mean = np.mean(dark[:,:,i])\n",
        "    darkCube[:,:,i] = cur_mean\n",
        "    \n",
        "whiteCube = np.zeros((567,1072,135))\n",
        "for i in range(0,135):\n",
        "    cur_mean = np.mean(white[:,:,i])\n",
        "    whiteCube[:,:,i] = cur_mean"
      ],
      "execution_count": 17,
      "outputs": [
        {
          "output_type": "error",
          "ename": "FileNotFoundError",
          "evalue": "ignored",
          "traceback": [
            "\u001b[0;31m---------------------------------------------------------------------------\u001b[0m",
            "\u001b[0;31mFileNotFoundError\u001b[0m                         Traceback (most recent call last)",
            "\u001b[0;32m<ipython-input-17-4ab880e2f96d>\u001b[0m in \u001b[0;36m<module>\u001b[0;34m()\u001b[0m\n\u001b[1;32m      1\u001b[0m \u001b[0;31m# 1. Read spectral data cubes (sample, white, dark)\u001b[0m\u001b[0;34m\u001b[0m\u001b[0;34m\u001b[0m\u001b[0;34m\u001b[0m\u001b[0m\n\u001b[0;32m----> 2\u001b[0;31m \u001b[0msampleCube\u001b[0m\u001b[0;34m,\u001b[0m\u001b[0mwavelengths\u001b[0m \u001b[0;34m=\u001b[0m \u001b[0mread_envi\u001b[0m\u001b[0;34m(\u001b[0m\u001b[0;34m'colorchecker_sample_0007'\u001b[0m\u001b[0;34m)\u001b[0m\u001b[0;34m\u001b[0m\u001b[0;34m\u001b[0m\u001b[0m\n\u001b[0m\u001b[1;32m      3\u001b[0m \u001b[0mwhite\u001b[0m\u001b[0;34m,\u001b[0m\u001b[0mwavelengths\u001b[0m \u001b[0;34m=\u001b[0m \u001b[0mread_envi\u001b[0m\u001b[0;34m(\u001b[0m\u001b[0;34m'WHITEREF_COLORchecker_sample_0007'\u001b[0m\u001b[0;34m)\u001b[0m\u001b[0;34m\u001b[0m\u001b[0;34m\u001b[0m\u001b[0m\n\u001b[1;32m      4\u001b[0m \u001b[0mdark\u001b[0m\u001b[0;34m,\u001b[0m\u001b[0mwavelengths\u001b[0m \u001b[0;34m=\u001b[0m \u001b[0mread_envi\u001b[0m\u001b[0;34m(\u001b[0m\u001b[0;34m'DARKREF_COLORchecker_sample_0007'\u001b[0m\u001b[0;34m)\u001b[0m\u001b[0;34m\u001b[0m\u001b[0;34m\u001b[0m\u001b[0m\n\u001b[1;32m      5\u001b[0m     \u001b[0;31m#resize the dark cube and white cube\u001b[0m\u001b[0;34m\u001b[0m\u001b[0;34m\u001b[0m\u001b[0;34m\u001b[0m\u001b[0m\n",
            "\u001b[0;32m<ipython-input-5-ebb641cd34a4>\u001b[0m in \u001b[0;36mread_envi\u001b[0;34m(fileName)\u001b[0m\n\u001b[1;32m     18\u001b[0m \u001b[0;34m\u001b[0m\u001b[0m\n\u001b[1;32m     19\u001b[0m     \u001b[0;31m# Read header file:\u001b[0m\u001b[0;34m\u001b[0m\u001b[0;34m\u001b[0m\u001b[0;34m\u001b[0m\u001b[0m\n\u001b[0;32m---> 20\u001b[0;31m     \u001b[0mf\u001b[0m \u001b[0;34m=\u001b[0m \u001b[0mopen\u001b[0m\u001b[0;34m(\u001b[0m\u001b[0mfileName\u001b[0m \u001b[0;34m+\u001b[0m \u001b[0;34m'.hdr'\u001b[0m\u001b[0;34m,\u001b[0m \u001b[0;34m'r'\u001b[0m\u001b[0;34m)\u001b[0m\u001b[0;34m\u001b[0m\u001b[0;34m\u001b[0m\u001b[0m\n\u001b[0m\u001b[1;32m     21\u001b[0m     \u001b[0mheader\u001b[0m \u001b[0;34m=\u001b[0m \u001b[0mf\u001b[0m\u001b[0;34m.\u001b[0m\u001b[0mreadlines\u001b[0m\u001b[0;34m(\u001b[0m\u001b[0;34m)\u001b[0m\u001b[0;34m\u001b[0m\u001b[0;34m\u001b[0m\u001b[0m\n\u001b[1;32m     22\u001b[0m     \u001b[0mf\u001b[0m\u001b[0;34m.\u001b[0m\u001b[0mclose\u001b[0m\u001b[0;34m(\u001b[0m\u001b[0;34m)\u001b[0m\u001b[0;34m\u001b[0m\u001b[0;34m\u001b[0m\u001b[0m\n",
            "\u001b[0;31mFileNotFoundError\u001b[0m: [Errno 2] No such file or directory: 'colorchecker_sample_0007.hdr'"
          ]
        }
      ]
    },
    {
      "cell_type": "code",
      "metadata": {
        "id": "izGZHvzIe7Kf"
      },
      "source": [
        "# 2. Calculate spectral reflectance image\n",
        "refCube = np.zeros((567,1072,135))\n",
        "for x in range(567):\n",
        "    for y in range(1072):\n",
        "        for lamda in range(135):\n",
        "            refCube[x,y,lamda] = (sampleCube[x,y,lamda]-darkCube[x,y,lam"
      ],
      "execution_count": null,
      "outputs": []
    },
    {
      "cell_type": "code",
      "metadata": {
        "id": "4MGLubfje-yI"
      },
      "source": [
        "# 3. Plot some reflectance spectra from Rsample(x,y,λ)\n",
        "plt.plot(wavelengths,refCube[400,300,:]) # light green\n",
        "plt.plot(wavelengths,refCube[350,800,:]) # orange\n",
        "plt.plot(wavelengths,refCube[200,550,:]) # red\n",
        "plt.plot(wavelengths,refCube[500,300,:]) # light purple\n",
        "plt.plot(wavelengths,refCube[100,700,:]) # gray\n"
      ],
      "execution_count": null,
      "outputs": []
    },
    {
      "cell_type": "code",
      "metadata": {
        "id": "YUwmVa01fFYl"
      },
      "source": [
        "# 4. Show some spectral band images Rsample(x,y,λ)\n",
        "plt.gray()\n",
        "plt.imshow(refCube[:,:,20]) #420.98nm\n",
        "plt.imshow(refCube[:,:,34]) #489.95nm\n",
        "plt.imshow(refCube[:,:,58]) # 610.06nm\n",
        "plt.imshow(refCube[:,:,100]) # 826.01nm"
      ],
      "execution_count": null,
      "outputs": []
    },
    {
      "cell_type": "code",
      "metadata": {
        "id": "M5qJCCUffF9I"
      },
      "source": [
        "# 5. Create and show some falsecolor images\n",
        "    # 630 nm for red, 532 nm for green, and 465 nm for blue\n",
        "red = refCube[:,:,62] # 630.31nm\n",
        "green = refCube[:,:,43] #534.71nm\n",
        "blue = refCube[:,:,29] #465.22nm\n",
        "rgbImg = np.dstack((red,green,blue))\n",
        "plt.imshow(rgbImg)\n",
        "    # pick some random channels\n",
        "c1 = refCube[:,:,30] #470.16nm\n",
        "c2 = refCube[:,:,65] #645.55nm\n",
        "c3 = refCube[:,:,110] #878.5nm\n",
        "falseColorImg_1 = np.dstack((c1,c2,c3))\n",
        "plt.imshow(falseColorImg_1)\n",
        "\n",
        "c4 = refCube[:,:,120] # 931.41nm\n",
        "c5 = refCube[:,:,20] # 420.98nm\n",
        "c6 = refCube[:,:,50] #569.76nm\n",
        "falseColorImg_2 = np.dstack((c4,c5,c6))\n",
        "plt.imshow(falseColorImg_2)"
      ],
      "execution_count": null,
      "outputs": []
    }
  ]
}